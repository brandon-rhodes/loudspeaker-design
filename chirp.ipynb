{
 "cells": [
  {
   "cell_type": "code",
   "execution_count": null,
   "metadata": {},
   "outputs": [],
   "source": [
    "%pylab inline\n",
    "%load_ext autoreload\n",
    "%autoreload 2\n",
    "import numpy as np\n",
    "import tools  # tools.py, in this directory\n",
    "from math import tau\n",
    "from scipy.io import wavfile\n",
    "\n",
    "pylab.rcParams['figure.figsize'] = 12, 5\n",
    "𝜏 = tau"
   ]
  },
  {
   "cell_type": "code",
   "execution_count": null,
   "metadata": {},
   "outputs": [],
   "source": [
    "hz = 44100\n",
    "T = 5             # number of seconds\n",
    "N = hz * T        # number of samples\n",
    "n = arange(N)     # samples vector\n",
    "t = n / hz        # time vector, in seconds\n",
    "start_hz = 10\n",
    "stop_hz = 5000"
   ]
  },
  {
   "cell_type": "markdown",
   "metadata": {},
   "source": [
    "# Creating a test signal"
   ]
  },
  {
   "cell_type": "code",
   "execution_count": null,
   "metadata": {},
   "outputs": [],
   "source": [
    "# if 1:  # linear chirp\n",
    "#     chirp_rate = (stop_hz - start_hz) / T\n",
    "#     a = np.sin(𝜏 * (chirp_rate * t * t / 2.0 + start_hz * t))\n",
    "# else:  # exponential chirp\n",
    "#     chirp_rate = (stop_hz / start_hz) ** (1 / T)\n",
    "#     a = np.sin(𝜏 * start_hz * (chirp_rate ** t - 1) / np.log(chirp_rate))\n",
    "# if 0:  # window\n",
    "#     window = np.where(n > N/2, N - n, n) / (N/2)\n",
    "#     a *= window"
   ]
  },
  {
   "cell_type": "code",
   "execution_count": null,
   "metadata": {},
   "outputs": [],
   "source": [
    "# Other waveforms\n",
    "#a = tools.fuzz(tools.sine_stack(t, 20, 2000, 0.05))\n",
    "#a = tools.sine_stack(t, 20, 2000, 0.03123)\n",
    "#print(np.log10(21) - np.log10(20))\n",
    "a = tools.sine_stack(t, 20, 2000, log10(20.5/20))  # 0.5 Hz resolution at 20 Hz\n",
    "#a = tools.sine_stack(t, 20, 2000, 0.05)\n",
    "a = tools.normalize(a)"
   ]
  },
  {
   "cell_type": "code",
   "execution_count": null,
   "metadata": {},
   "outputs": [],
   "source": [
    "plot(t, a, ',')"
   ]
  },
  {
   "cell_type": "code",
   "execution_count": null,
   "metadata": {},
   "outputs": [],
   "source": [
    "f = fft.fft(a) / N\n",
    "fig, (ax1, ax2) = plt.subplots(2, 1)\n",
    "ax1.plot(n/T, abs(f), 'o')\n",
    "ax2.plot(n/T, np.angle(f), ',')\n",
    "[ax.set_xlim(10, hz/2 - 10) for ax in (ax1, ax2)];\n",
    "[ax.set_xscale('log') for ax in (ax1, ax2)];\n",
    "[ax.grid(which='both') for ax in (ax1, ax2)];"
   ]
  },
  {
   "cell_type": "code",
   "execution_count": null,
   "metadata": {},
   "outputs": [],
   "source": [
    "left = 32000 * a\n",
    "right = 0 * a\n",
    "stereo = np.array([left, right]).astype(np.int16).T\n",
    "tools.write('sample.wav', hz, left, right)"
   ]
  },
  {
   "cell_type": "markdown",
   "metadata": {},
   "source": [
    "# Play sample.wav and measure response"
   ]
  },
  {
   "cell_type": "markdown",
   "metadata": {},
   "source": [
    "Notes:\n",
    "\n",
    "```\n",
    "arecord -f cd -c 1 audio-in.wav -D \"HDA Intel PCH\"\n",
    "\n",
    "--duration 10\n",
    "```"
   ]
  },
  {
   "cell_type": "code",
   "execution_count": null,
   "metadata": {},
   "outputs": [],
   "source": [
    "#output_device = 'plughw:CARD=PCH,DEV=0'\n",
    "output_device = 'plughw:CARD=USB,DEV=0'\n",
    "input_device = 'plughw:CARD=USB,DEV=0'"
   ]
  },
  {
   "cell_type": "code",
   "execution_count": null,
   "metadata": {},
   "outputs": [],
   "source": [
    "# ! aplay -D {output_device} sample.wav"
   ]
  },
  {
   "cell_type": "code",
   "execution_count": null,
   "metadata": {},
   "outputs": [],
   "source": [
    "! (sleep 1; aplay -D {output_device} sample.wav) & arecord -f cd -c 2 -D {input_device} --duration={T+2} audio-in.wav\n",
    "! ls -l audio-in.wav"
   ]
  },
  {
   "cell_type": "code",
   "execution_count": null,
   "metadata": {},
   "outputs": [],
   "source": [
    "hz, channels = wavfile.read('audio-in.wav')\n",
    "left, right = channels.T\n",
    "signal = tools.trim_silence(T, hz, right)"
   ]
  },
  {
   "cell_type": "code",
   "execution_count": null,
   "metadata": {},
   "outputs": [],
   "source": [
    "signal[:100]"
   ]
  },
  {
   "cell_type": "code",
   "execution_count": null,
   "metadata": {},
   "outputs": [],
   "source": [
    "print('Maximum amplitude excursion:', max(abs(signal)))\n",
    "print('Fraction of available 2^32: {:.3f}'.format(max(abs(signal)) / 32768))\n",
    "plot(signal)"
   ]
  },
  {
   "cell_type": "code",
   "execution_count": null,
   "metadata": {},
   "outputs": [],
   "source": [
    "# Overview plot, to see everything that is going on.\n",
    "N = len(signal)\n",
    "f = fft.fft(signal)\n",
    "fig, (ax1, ax2) = plt.subplots(2, 1)\n",
    "ax1.plot(hz * arange(N) / N, abs(f), ',')\n",
    "ax2.plot(hz * arange(N) / N, np.angle(f), ',')\n",
    "[ax.set_xlim(10, hz/2 - 10) for ax in (ax1, ax2)];"
   ]
  },
  {
   "cell_type": "code",
   "execution_count": null,
   "metadata": {},
   "outputs": [],
   "source": [
    "# Plot narrowed to where we expect signal.\n",
    "N = len(signal)\n",
    "f = fft.fft(signal)\n",
    "fig, ax = plt.subplots()\n",
    "power_dB = 20 * np.log10(abs(f))\n",
    "ceiling_dB = max(power_dB) // 5 * 5 + 5\n",
    "ax.plot(hz * arange(N) / N, power_dB, '.')\n",
    "#ax2.plot(hz * arange(N) / N, np.angle(f), ',')\n",
    "ax.set_ylabel('Power (dB)')\n",
    "ax.set_xlim(start_hz, stop_hz)\n",
    "ax.set_ylim(ceiling_dB - 50.0, ceiling_dB)\n",
    "#ax.set_ylim(ceiling_dB - 10.0, ceiling_dB)\n",
    "ax.set_xscale('log')\n",
    "ax.grid(which='both')"
   ]
  },
  {
   "cell_type": "code",
   "execution_count": null,
   "metadata": {},
   "outputs": [],
   "source": [
    "x = hz * arange(N) / N\n",
    "i = 20 * 5\n",
    "x[i]  # 20 Hz\n",
    "print(x[i-5:i+6])\n",
    "print(power_dB[i-5:i+6])"
   ]
  },
  {
   "cell_type": "code",
   "execution_count": null,
   "metadata": {},
   "outputs": [],
   "source": [
    "# Compare!\n",
    "\n",
    "hz_i, channels = wavfile.read('sample.wav')\n",
    "left, right = channels.T\n",
    "input_signal = left\n",
    "\n",
    "hz_o, channels = wavfile.read('audio-in.wav')\n",
    "left, right = channels.T\n",
    "output_signal = right\n",
    "\n",
    "assert hz_i == hz_o\n",
    "\n",
    "Ni = len(input_signal)\n",
    "fi = abs(fft.fft(input_signal))\n",
    "\n",
    "No = len(output_signal)\n",
    "fo = abs(fft.fft(output_signal + 2.3e6))\n",
    "\n",
    "frequency = hz_o * arange(No) / No\n",
    "print(frequency.shape)\n",
    "print(fo.shape)\n",
    "print(arange(Ni).shape)\n",
    "fi = np.interp(frequency, hz_i * arange(Ni) / Ni, abs(fi))\n",
    "print(fi.shape)\n",
    "\n",
    "mask = (frequency >= start_hz) & (frequency <= stop_hz)\n",
    "frequency = frequency[mask]\n",
    "fi = fi[mask]\n",
    "fo = fo[mask]\n",
    "\n",
    "ratio = fo / fi\n",
    "\n",
    "fig, [ax1, ax2] = plt.subplots(2, 1)\n",
    "ax1.set(title='Input and Output spectra, then ratio output ÷ input')\n",
    "ax1.plot(frequency, fi, '.')\n",
    "ax1.plot(frequency, fo, '.')\n",
    "#ax1.plot(frequency, fo + 2.3e6, ',')\n",
    "ax2.plot(frequency, ratio, '.')\n",
    "#[ax.set_xlim(start_hz, stop_hz) for ax in [ax1, ax2]];\n",
    "[ax.set_xscale('log') for ax in [ax1, ax2]];\n",
    "[ax.grid(which='both') for ax in (ax1, ax2)];"
   ]
  },
  {
   "cell_type": "code",
   "execution_count": null,
   "metadata": {},
   "outputs": [],
   "source": [
    "# NEXT: try adjusting to match amplitude, THEN do FFT. Result SHOULD be same?"
   ]
  },
  {
   "cell_type": "markdown",
   "metadata": {},
   "source": [
    "# Appendix: should we trim measured signal?\n",
    "\n",
    "Yes, trimming the measured signal\n",
    "to remove the quiet on each end\n",
    "allows a faster FFT\n",
    "while returning the exact same curve\n",
    "but with less noise."
   ]
  },
  {
   "cell_type": "code",
   "execution_count": null,
   "metadata": {},
   "outputs": [],
   "source": [
    "hz, channels = wavfile.read('audio-in.wav')\n",
    "left, right = channels.T\n",
    "plot(right)"
   ]
  },
  {
   "cell_type": "code",
   "execution_count": null,
   "metadata": {},
   "outputs": [],
   "source": [
    "fig, (ax1, ax2) = plt.subplots(2, 1)\n",
    "\n",
    "for signal in right, tools.trim_silence(right):\n",
    "    N = len(signal)\n",
    "    f = fft.fft(signal)\n",
    "    ax1.plot(hz * arange(N) / N, abs(f), ',')\n",
    "    ax2.plot(hz * arange(N) / N, np.angle(f), ',')\n",
    "    [ax.set_xlim(start_hz, stop_hz) for ax in (ax1, ax2)];\n",
    "    [ax.set_xscale('log') for ax in (ax1, ax2)];"
   ]
  },
  {
   "cell_type": "markdown",
   "metadata": {},
   "source": [
    "# Appendix: how far apart should we space sine waves?"
   ]
  },
  {
   "cell_type": "code",
   "execution_count": null,
   "metadata": {},
   "outputs": [],
   "source": [
    "k = arange(0.02, 0.09, 0.001)\n",
    "factors = []\n",
    "for ki in k:\n",
    "    a = tools.sine_stack(t, 20, 2000, ki, False)\n",
    "    factors.append(max(abs(a)))"
   ]
  },
  {
   "cell_type": "code",
   "execution_count": null,
   "metadata": {},
   "outputs": [],
   "source": [
    "plot(k, factors, '.')"
   ]
  },
  {
   "cell_type": "code",
   "execution_count": null,
   "metadata": {},
   "outputs": [],
   "source": []
  }
 ],
 "metadata": {
  "kernelspec": {
   "display_name": "Python 3",
   "language": "python",
   "name": "python3"
  },
  "language_info": {
   "codemirror_mode": {
    "name": "ipython",
    "version": 3
   },
   "file_extension": ".py",
   "mimetype": "text/x-python",
   "name": "python",
   "nbconvert_exporter": "python",
   "pygments_lexer": "ipython3",
   "version": "3.7.3"
  }
 },
 "nbformat": 4,
 "nbformat_minor": 4
}
