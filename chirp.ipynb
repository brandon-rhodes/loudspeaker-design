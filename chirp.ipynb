{
 "cells": [
  {
   "cell_type": "code",
   "execution_count": null,
   "metadata": {},
   "outputs": [],
   "source": [
    "%pylab inline\n",
    "%load_ext autoreload\n",
    "%autoreload 2\n",
    "import numpy as np\n",
    "from math import tau\n",
    "from scipy.io import wavfile\n",
    "\n",
    "pylab.rcParams['figure.figsize'] = 12, 5\n",
    "𝜏 = tau"
   ]
  },
  {
   "cell_type": "code",
   "execution_count": null,
   "metadata": {},
   "outputs": [],
   "source": [
    "hz = 44100\n",
    "T = 5             # number of seconds\n",
    "N = hz * T  # number of samples\n",
    "n = arange(N)     # samples vector\n",
    "t = n / hz        # time vector, in seconds\n",
    "start_hz = 10\n",
    "stop_hz = 5000"
   ]
  },
  {
   "cell_type": "code",
   "execution_count": null,
   "metadata": {},
   "outputs": [],
   "source": [
    "if 1:  # linear chirp\n",
    "    chirp_rate = (stop_hz - start_hz) / T\n",
    "    a = np.sin(𝜏 * (chirp_rate * t * t / 2.0 + start_hz * t))\n",
    "else:  # exponential chirp\n",
    "    chirp_rate = (stop_hz / start_hz) ** (1 / T)\n",
    "    a = np.sin(𝜏 * start_hz * (chirp_rate ** t - 1) / np.log(chirp_rate))\n",
    "plot(t, a, ',')"
   ]
  },
  {
   "cell_type": "code",
   "execution_count": null,
   "metadata": {},
   "outputs": [],
   "source": [
    "from numpy.fft import fft\n",
    "f = fft(a)\n",
    "fig, (ax1, ax2) = plt.subplots(2, 1)\n",
    "ax1.plot(n/T, abs(f), ',')\n",
    "ax2.plot(n/T, np.angle(f), ',')\n",
    "[ax.set_xlim(10, hz/2 - 10) for ax in (ax1, ax2)];\n",
    "[ax.set_xscale('log') for ax in (ax1, ax2)];"
   ]
  },
  {
   "cell_type": "code",
   "execution_count": null,
   "metadata": {},
   "outputs": [],
   "source": [
    "print(len(a) * 1.0 / hz, 'seconds of audio')\n",
    "left = 8000 * a\n",
    "right = 0 * a\n",
    "stereo = np.array([left, right]).astype(np.int16).T\n",
    "wavfile.write('sweep.wav', hz, stereo)"
   ]
  },
  {
   "cell_type": "code",
   "execution_count": null,
   "metadata": {},
   "outputs": [],
   "source": []
  },
  {
   "cell_type": "markdown",
   "metadata": {},
   "source": [
    "# Recording"
   ]
  },
  {
   "cell_type": "markdown",
   "metadata": {},
   "source": [
    "Notes:\n",
    "\n",
    "```\n",
    "arecord -f cd -c 1 audio-in.wav -D \"HDA Intel PCH\"\n",
    "\n",
    "--duration 10\n",
    "```"
   ]
  },
  {
   "cell_type": "code",
   "execution_count": null,
   "metadata": {},
   "outputs": [],
   "source": [
    "#output_device = 'plughw:CARD=PCH,DEV=0'\n",
    "output_device = 'plughw:CARD=USB,DEV=0'\n",
    "input_device = 'plughw:CARD=USB,DEV=0'"
   ]
  },
  {
   "cell_type": "code",
   "execution_count": null,
   "metadata": {},
   "outputs": [],
   "source": [
    "! aplay -D {output_device} sweep.wav"
   ]
  },
  {
   "cell_type": "code",
   "execution_count": null,
   "metadata": {},
   "outputs": [],
   "source": [
    "! (sleep 1; aplay -D {output_device} sweep.wav) & arecord -f cd -c 2 -D {input_device} --duration={T+2} audio-in.wav\n",
    "! ls -l audio-in.wav"
   ]
  },
  {
   "cell_type": "code",
   "execution_count": null,
   "metadata": {},
   "outputs": [],
   "source": [
    "hz, channels = wavfile.read('audio-in.wav')\n",
    "left, right = channels.T\n",
    "signal = right"
   ]
  },
  {
   "cell_type": "code",
   "execution_count": null,
   "metadata": {},
   "outputs": [],
   "source": [
    "plot(signal)"
   ]
  },
  {
   "cell_type": "code",
   "execution_count": null,
   "metadata": {},
   "outputs": [],
   "source": [
    "# Overview plot, to see everything that is going on.\n",
    "N = len(signal)\n",
    "f = fft(signal)\n",
    "fig, (ax1, ax2) = plt.subplots(2, 1)\n",
    "ax1.plot(hz * arange(N) / N, abs(f), ',')\n",
    "ax2.plot(hz * arange(N) / N, np.angle(f), ',')\n",
    "[ax.set_xlim(10, hz/2 - 10) for ax in (ax1, ax2)];"
   ]
  },
  {
   "cell_type": "code",
   "execution_count": null,
   "metadata": {},
   "outputs": [],
   "source": [
    "# Plot narrowed to where we expect signal.\n",
    "N = len(signal)\n",
    "f = fft(signal)\n",
    "fig, (ax1, ax2) = plt.subplots(2, 1)\n",
    "ax1.plot(hz * arange(N) / N, abs(f), ',')\n",
    "ax2.plot(hz * arange(N) / N, np.angle(f), ',')\n",
    "[ax.set_xlim(start_hz, stop_hz) for ax in (ax1, ax2)];\n",
    "[ax.set_xscale('log') for ax in (ax1, ax2)];"
   ]
  },
  {
   "cell_type": "code",
   "execution_count": null,
   "metadata": {},
   "outputs": [],
   "source": [
    "# Compare!\n",
    "\n",
    "hz_i, channels = wavfile.read('sweep.wav')\n",
    "left, right = channels.T\n",
    "input_signal = left\n",
    "\n",
    "hz_o, channels = wavfile.read('audio-in.wav')\n",
    "left, right = channels.T\n",
    "output_signal = right\n",
    "\n",
    "assert hz_i == hz_o\n",
    "\n",
    "Ni = len(input_signal)\n",
    "fi = abs(fft(input_signal))\n",
    "\n",
    "No = len(output_signal)\n",
    "fo = abs(fft(output_signal))\n",
    "\n",
    "frequency = hz_o * arange(No) / No\n",
    "print(frequency.shape)\n",
    "print(fo.shape)\n",
    "print(arange(Ni).shape)\n",
    "fi = np.interp(frequency, hz_i * arange(Ni) / Ni, abs(fi))\n",
    "print(fi.shape)\n",
    "\n",
    "mask = (frequency >= start_hz) & (frequency <= stop_hz)\n",
    "frequency = frequency[mask]\n",
    "fi = fi[mask]\n",
    "fo = fo[mask]\n",
    "\n",
    "ratio = fo / fi\n",
    "\n",
    "fig, [ax1, ax2] = plt.subplots(2, 1)\n",
    "ax1.plot(frequency, fi, ',')\n",
    "ax1.plot(frequency, fo, ',')\n",
    "ax2.plot(frequency, ratio, ',')\n",
    "# numpy.interp(x, xp, fp, left=None, right=None, period=None)\n",
    "#[ax.set_xlim(start_hz * 2, stop_hz * 0.6) for ax in [ax]];\n",
    "[ax.set_xscale('log') for ax in [ax1, ax2]];"
   ]
  },
  {
   "cell_type": "code",
   "execution_count": null,
   "metadata": {},
   "outputs": [],
   "source": []
  },
  {
   "cell_type": "code",
   "execution_count": null,
   "metadata": {},
   "outputs": [],
   "source": []
  },
  {
   "cell_type": "code",
   "execution_count": null,
   "metadata": {},
   "outputs": [],
   "source": []
  },
  {
   "cell_type": "code",
   "execution_count": null,
   "metadata": {},
   "outputs": [],
   "source": [
    "# def moving_average(a, n=3) :\n",
    "#     ret = np.cumsum(a, dtype=float)\n",
    "#     ret[n:] = ret[n:] - ret[:-n]\n",
    "#     return ret[n - 1:] / n"
   ]
  },
  {
   "cell_type": "code",
   "execution_count": null,
   "metadata": {},
   "outputs": [],
   "source": [
    "# from numpy.fft import fft\n",
    "# f = fft(a)\n",
    "# fig, (ax1, ax2) = plt.subplots(2, 1)\n",
    "# ax1.plot(moving_average(abs(f), 10), ',')\n",
    "# a = np.angle(f)\n",
    "# ax2.plot(a, ',')"
   ]
  },
  {
   "cell_type": "code",
   "execution_count": null,
   "metadata": {},
   "outputs": [],
   "source": [
    "# from numpy.fft import fft\n",
    "# f = fft(a)\n",
    "# #print(f.imag)\n",
    "# fig, (ax1, ax2) = plt.subplots(2, 1)\n",
    "# ax1.plot(moving_average(abs(f), 10), ',')\n",
    "# ax1.set_xlim(10, 22050)\n",
    "# #ax1.plot(f.imag)\n",
    "# a = np.angle(f)\n",
    "# ax2.plot(a, ',')\n",
    "# ax2.set_xlim(10, 22050)"
   ]
  },
  {
   "cell_type": "code",
   "execution_count": null,
   "metadata": {},
   "outputs": [],
   "source": []
  }
 ],
 "metadata": {
  "kernelspec": {
   "display_name": "Python 3",
   "language": "python",
   "name": "python3"
  },
  "language_info": {
   "codemirror_mode": {
    "name": "ipython",
    "version": 3
   },
   "file_extension": ".py",
   "mimetype": "text/x-python",
   "name": "python",
   "nbconvert_exporter": "python",
   "pygments_lexer": "ipython3",
   "version": "3.7.3"
  }
 },
 "nbformat": 4,
 "nbformat_minor": 4
}
